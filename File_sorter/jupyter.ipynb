{
 "cells": [
  {
   "cell_type": "code",
   "execution_count": 21,
   "id": "b077767c",
   "metadata": {},
   "outputs": [
    {
     "name": "stdout",
     "output_type": "stream",
     "text": [
      "Path: d:\\Desktop\\Pracovní soubory\\Data_analysys\\File_sorter\n",
      "FilesForSorting_Path: d:\\Desktop\\Pracovní soubory\\Data_analysys\\File_sorter/FilesForSorting\n"
     ]
    }
   ],
   "source": [
    "# Import necessary libraries\n",
    "import os, shutil\n",
    "\n",
    "# --------------------------------------------------------------------------------------------------------\n",
    "# Code\n",
    "Path = os.getcwd()\n",
    "print(f\"Path: {Path}\")\n",
    "FilesForSorting_Path = Path+\"/FilesForSorting\"\n",
    "print(f\"FilesForSorting_Path: {FilesForSorting_Path}\")\n"
   ]
  },
  {
   "cell_type": "code",
   "execution_count": 28,
   "id": "23b35c2d",
   "metadata": {},
   "outputs": [],
   "source": [
    "\n",
    "file_name = os.listdir(FilesForSorting_Path)"
   ]
  },
  {
   "cell_type": "code",
   "execution_count": 30,
   "id": "764217df",
   "metadata": {},
   "outputs": [],
   "source": [
    "folder_names =['csv files','image files','txt files','xlsx files','pdf files']\n",
    "\n",
    "# Create folders if they do not exist\n",
    "for folder_name in folder_names:\n",
    "    folder_path = os.path.join(FilesForSorting_Path, folder_name)\n",
    "    if not os.path.exists(folder_path):\n",
    "        os.makedirs(folder_path)"
   ]
  },
  {
   "cell_type": "code",
   "execution_count": null,
   "id": "77d4c327",
   "metadata": {},
   "outputs": [
    {
     "name": "stdout",
     "output_type": "stream",
     "text": [
      "Přesunut soubor: Excel Project Dataset.xlsx do složky: xlsx files\n",
      "Přesunut soubor: gardens by the bay.png do složky: image files\n",
      "Přesunut soubor: kontaktni-centrum-navod-pro-studenty-fld.pdf do složky: pdf files\n",
      "Přesunut soubor: RM1.1 až RM1.4, RM2, RM3 - 20250516.pdf do složky: pdf files\n",
      "Přesunut soubor: test.txt do složky: txt files\n"
     ]
    }
   ],
   "source": [
    "# define the folder extensions\n",
    "folder_extensions = {\n",
    "    'csv files': ['.csv'],\n",
    "    'image files': ['.jpg', '.jpeg', '.png', '.gif', '.bmp'],\n",
    "    'txt files': ['.txt'],\n",
    "    'xlsx files': ['.xlsx'],\n",
    "    'pdf files': ['.pdf']\n",
    "}\n",
    "\n",
    "# path to the files to be sorted\n",
    "for file in file_name:\n",
    "    file_path = os.path.join(FilesForSorting_Path, file)\n",
    "    if os.path.isfile(file_path):\n",
    "        # get the file extension\n",
    "        _, ext = os.path.splitext(file)\n",
    "        # convert the extension to lowercase\n",
    "        ext = ext.lower()\n",
    "        # find the corresponding folder based on the extension\n",
    "        for folder, extensions in folder_extensions.items():\n",
    "            if ext in extensions:\n",
    "                target_folder = os.path.join(FilesForSorting_Path, folder)\n",
    "                shutil.move(file_path, os.path.join(target_folder, file))\n",
    "                break"
   ]
  },
  {
   "cell_type": "code",
   "execution_count": null,
   "id": "c041a057",
   "metadata": {},
   "outputs": [],
   "source": []
  }
 ],
 "metadata": {
  "kernelspec": {
   "display_name": "Python 3",
   "language": "python",
   "name": "python3"
  },
  "language_info": {
   "codemirror_mode": {
    "name": "ipython",
    "version": 3
   },
   "file_extension": ".py",
   "mimetype": "text/x-python",
   "name": "python",
   "nbconvert_exporter": "python",
   "pygments_lexer": "ipython3",
   "version": "3.13.5"
  }
 },
 "nbformat": 4,
 "nbformat_minor": 5
}
